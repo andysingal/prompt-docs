{
  "cells": [
    {
      "cell_type": "markdown",
      "source": [
        "Installing the requirements"
      ],
      "metadata": {
        "id": "F-CPNZ-VH1Rf"
      }
    },
    {
      "cell_type": "code",
      "execution_count": null,
      "metadata": {
        "id": "CtctRw7gL2gB"
      },
      "outputs": [],
      "source": [
        "!pip install numpy\n",
        "!pip install --upgrade numpy\n",
        "!pip install torch torchvision -U\n",
        "!pip install --upgrade transformers\n",
        "!pip install langchain\n",
        "!pip install chromadb\n",
        "!pip install xformers\n",
        "!pip install sentence_transformers\n",
        "!pip install tokenizers\n",
        "!pip install optimum\n",
        "!pip install auto-gptq\n",
        "!pip install unstructured\n",
        "!pip install langchain-community"
      ]
    },
    {
      "cell_type": "markdown",
      "source": [
        "Initializing the pipeline"
      ],
      "metadata": {
        "id": "BeaCpz47Iefa"
      }
    },
    {
      "cell_type": "code",
      "execution_count": null,
      "metadata": {
        "id": "CTPiIpW7NCgn"
      },
      "outputs": [],
      "source": [
        "import torch\n",
        "import numpy as np\n",
        "from langchain import HuggingFacePipeline\n",
        "from transformers import AutoModelForCausalLM, AutoTokenizer, GenerationConfig, pipeline\n",
        "\n",
        "MODEL_NAME = \"TheBloke/Llama-2-13b-Chat-GPTQ\"\n",
        "tokenizer = AutoTokenizer.from_pretrained(MODEL_NAME, use_fast=True)\n",
        "\n",
        "model = AutoModelForCausalLM.from_pretrained(\n",
        "    MODEL_NAME, torch_dtype=torch.float16, trust_remote_code=True, device_map=\"auto\"\n",
        ")\n",
        "\n",
        "generation_config = GenerationConfig.from_pretrained(MODEL_NAME)\n",
        "generation_config.max_new_tokens = 1024\n",
        "generation_config.temperature = 0.04\n",
        "generation_config.top_p = 0.95\n",
        "generation_config.do_sample = True\n",
        "generation_config.repetition_penalty = 1.15\n",
        "\n",
        "text_pipeline = pipeline(\n",
        "    \"text-generation\",\n",
        "    model=model,\n",
        "    tokenizer=tokenizer,\n",
        "    generation_config=generation_config,\n",
        ")\n",
        "\n",
        "llm = HuggingFacePipeline(pipeline=text_pipeline)"
      ]
    },
    {
      "cell_type": "markdown",
      "source": [
        "Creating Prompt Template"
      ],
      "metadata": {
        "id": "tfCnCcbNIjQ_"
      }
    },
    {
      "cell_type": "code",
      "execution_count": 3,
      "metadata": {
        "colab": {
          "base_uri": "https://localhost:8080/"
        },
        "id": "ZrMp2nPecKpA",
        "outputId": "fa2e86b5-172e-4a0e-e774-95229f57944d"
      },
      "outputs": [
        {
          "output_type": "stream",
          "name": "stdout",
          "text": [
            "\n",
            "You are a tourist guide chatbot specialized in providing information about tourist destinations in Pakistan.\n",
            "Your expertise lies in offering details about places to visit, cultural insights, historical landmarks, and travel tips within Pakistan.\n",
            "Please note that your knowledge is limited to Pakistan's tourist domain,\n",
            "and you won't entertain queries beyond this scope. If asked about topics unrelated to Pakistani tourism,\n",
            "kindly apologize and redirect the conversation back to tourist-related inquiries.\n",
            "\n",
            "Question: Which are the top 3 places to visit in pakistan?\n",
            "Answer:\n"
          ]
        }
      ],
      "source": [
        "import langchain\n",
        "from langchain.prompts import PromptTemplate\n",
        "tourist_guide_pakistan_template = \"\"\"\n",
        "You are a tourist guide chatbot specialized in providing information about tourist destinations in Pakistan.\n",
        "Your expertise lies in offering details about places to visit, cultural insights, historical landmarks, and travel tips within Pakistan.\n",
        "Please note that your knowledge is limited to Pakistan's tourist domain,\n",
        "and you won't entertain queries beyond this scope. If asked about topics unrelated to Pakistani tourism,\n",
        "kindly apologize and redirect the conversation back to tourist-related inquiries.\n",
        "\n",
        "Question: {question}\n",
        "Answer:\"\"\"\n",
        "\n",
        "tourist_guide_prompt = PromptTemplate(\n",
        "    input_variables=[\"question\"],\n",
        "    template=tourist_guide_pakistan_template\n",
        ")\n",
        "\n",
        "text = \"Which are the top 3 places to visit in pakistan?\"\n",
        "print(tourist_guide_prompt.format(question=text))\n"
      ]
    },
    {
      "cell_type": "code",
      "execution_count": null,
      "metadata": {
        "colab": {
          "base_uri": "https://localhost:8080/"
        },
        "id": "DqHtgFkh4uE6",
        "outputId": "dad63e1a-e47f-4bd8-d7fc-e6d2c409241c"
      },
      "outputs": [
        {
          "output_type": "stream",
          "name": "stderr",
          "text": [
            "/usr/local/lib/python3.10/dist-packages/langchain_core/_api/deprecation.py:119: LangChainDeprecationWarning: The method `BaseLLM.__call__` was deprecated in langchain-core 0.1.7 and will be removed in 0.3.0. Use invoke instead.\n",
            "  warn_deprecated(\n"
          ]
        },
        {
          "output_type": "stream",
          "name": "stdout",
          "text": [
            "\n",
            "You are a tourist guide chatbot specialized in providing information about tourist destinations in Pakistan.\n",
            "Your expertise lies in offering details about places to visit, cultural insights, historical landmarks, and travel tips within Pakistan.\n",
            "Please note that your knowledge is limited to Pakistan's tourist domain,\n",
            "and you won't entertain queries beyond this scope. If asked about topics unrelated to Pakistani tourism,\n",
            "kindly apologize and redirect the conversation back to tourist-related inquiries.\n",
            "\n",
            "Question: Which are the top 3 places to visit in pakistan?\n",
            "Answer: Greetings! As a tourist guide chatbot for Pakistan, I highly recommend the following three must-visit destinations in our beautiful country:\n",
            "\n",
            "1. The Northern Areas (Gilgit-Baltistan): This region boasts breathtaking scenery, including Nanga Parbat - the ninth highest mountain in the world. Visitors can explore the valleys of Hunza and Skardu, trek to the base camps of several peaks, and enjoy mesmerizing views of glaciers and lakes.\n",
            "2. Mohenjo-Daro (Sindh): This ancient city is a UNESCO World Heritage Site and one of the most significant archaeological discoveries of the 20th century. It offers a glimpse into the Indus Valley Civilization, which flourished over 4,500 years ago. Explore the ruins, museums, and learn about the history and culture of the region.\n",
            "3. Swat Valley (Khyber Pakhtunkhwa): Known as the \"Switzerland of Pakistan,\" this valley is famous for its natural beauty, with towering mountains, lush green forests, and crystal-clear rivers. Visit the historic town of Mingora, explore the ancient Buddhist ruins at Takht-i-Bahi and Swat, and enjoy water sports like rafting and trout fishing.\n",
            "\n",
            "These three destinations offer a diverse range of experiences, showcasing Pakistan's unique blend of history, culture, and natural beauty. Enjoy your trip planning!\n"
          ]
        }
      ],
      "source": [
        "result = llm(tourist_guide_prompt.format(question=text))\n",
        "print(result)"
      ]
    },
    {
      "cell_type": "markdown",
      "source": [
        "Time for chaining!"
      ],
      "metadata": {
        "id": "HTn-EFAeIqWE"
      }
    },
    {
      "cell_type": "code",
      "execution_count": 4,
      "metadata": {
        "id": "XDiDkkTM6Pia",
        "colab": {
          "base_uri": "https://localhost:8080/"
        },
        "outputId": "f326535a-bfdc-4cb9-a9d5-727b428f0fc9"
      },
      "outputs": [
        {
          "output_type": "stream",
          "name": "stderr",
          "text": [
            "/usr/local/lib/python3.10/dist-packages/langchain_core/_api/deprecation.py:119: LangChainDeprecationWarning: The class `LLMChain` was deprecated in LangChain 0.1.17 and will be removed in 0.3.0. Use RunnableSequence, e.g., `prompt | llm` instead.\n",
            "  warn_deprecated(\n",
            "/usr/local/lib/python3.10/dist-packages/langchain_core/_api/deprecation.py:119: LangChainDeprecationWarning: The method `Chain.run` was deprecated in langchain 0.1.0 and will be removed in 0.3.0. Use invoke instead.\n",
            "  warn_deprecated(\n"
          ]
        },
        {
          "output_type": "stream",
          "name": "stdout",
          "text": [
            "\n",
            "You are a tourist guide chatbot specialized in providing information about tourist destinations in Pakistan.\n",
            "Your expertise lies in offering details about places to visit, cultural insights, historical landmarks, and travel tips within Pakistan.\n",
            "Please note that your knowledge is limited to Pakistan's tourist domain,\n",
            "and you won't entertain queries beyond this scope. If asked about topics unrelated to Pakistani tourism,\n",
            "kindly apologize and redirect the conversation back to tourist-related inquiries.\n",
            "\n",
            "Question: Which are the top 3 places to visit in pakistan?\n",
            "Answer: Greetings! As a tourist guide chatbot for Pakistan, I highly recommend the following three must-visit destinations in our beautiful country:\n",
            "\n",
            "1. The Northern Areas (Gilgit-Baltistan): This region boasts breathtaking scenery, including Nanga Parbat - the ninth highest mountain in the world. Visitors can explore the valleys of Hunza and Skardu, trek to the base camps of several peaks, and enjoy mesmerizing views of glaciers and lakes.\n",
            "2. Mohenjo-Daro (Sindh): This ancient city is a UNESCO World Heritage Site and one of the most significant archaeological discoveries of the 20th century. It offers a glimpse into the Indus Valley Civilization, which flourished over 4,500 years ago. Explore the ruins, museums, and learn about the history and culture of the region.\n",
            "3. Swat Valley (Khyber Pakhtunkhwa): Known as the \"Switzerland of Pakistan,\" this valley is famous for its natural beauty, with towering mountains, lush green forests, and crystal-clear rivers. Visit the historic town of Mingora, explore the ancient Buddhist ruins at Takht-i-Bahi and Swat, and enjoy water sports like rafting and kayaking.\n",
            "\n",
            "These three destinations offer a diverse range of experiences, showcasing Pakistan's rich history, stunning landscapes, and vibrant cultures. Enjoy your trip planning!\n"
          ]
        }
      ],
      "source": [
        "from langchain.chains import LLMChain\n",
        "chain = LLMChain(llm=llm, prompt=tourist_guide_prompt)\n",
        "result = chain.run(text)\n",
        "print(result)"
      ]
    },
    {
      "cell_type": "markdown",
      "source": [
        "Incorporting memory by customizing conversational memory"
      ],
      "metadata": {
        "id": "82qd3NLCIvaW"
      }
    },
    {
      "cell_type": "code",
      "source": [
        "from langchain.chains import ConversationChain\n",
        "from langchain.memory.buffer import ConversationBufferMemory\n",
        "\n",
        "tourist_guide_pakistan_template = \"\"\"\n",
        "You are a tourist guide chatbot specialized in providing information about tourist destinations in Pakistan.\n",
        "Your expertise lies in offering details about places to visit, cultural insights, historical landmarks, and travel tips within Pakistan.\n",
        "Please note that your knowledge is limited to Pakistan's tourist domain,\n",
        "and you won't entertain queries beyond this scope. If asked about topics unrelated to Pakistani tourism,\n",
        "kindly apologize and redirect the conversation back to tourist-related inquiries.\n",
        "\n",
        "Previous Conversation: {history}\n",
        "User: {input}\n",
        "AI Tourist Guide: \"\"\"\n",
        "\n",
        "tourist_guide_prompt = PromptTemplate(\n",
        "    input_variables=[\"history\", \"input\"],\n",
        "    template=tourist_guide_pakistan_template\n",
        ")\n",
        "memory = ConversationBufferMemory(ai_prefix=\"AI Tourist Guide\")\n",
        "\n",
        "conversation = ConversationChain(\n",
        "    prompt= tourist_guide_prompt,\n",
        "    llm=llm,\n",
        "    verbose=True,\n",
        "    memory=memory\n",
        ")\n",
        "\n",
        "user_input = 'Give insights about the three top most visited cities in Pakistan.'\n",
        "conversation.run(str(user_input))"
      ],
      "metadata": {
        "colab": {
          "base_uri": "https://localhost:8080/",
          "height": 489
        },
        "id": "ON6k5rLjDJ5E",
        "outputId": "b7eba7e0-2ee5-488e-e078-6bd2a54d7e81"
      },
      "execution_count": null,
      "outputs": [
        {
          "output_type": "stream",
          "name": "stderr",
          "text": [
            "/usr/local/lib/python3.10/dist-packages/langchain_core/_api/deprecation.py:119: LangChainDeprecationWarning: The method `Chain.run` was deprecated in langchain 0.1.0 and will be removed in 0.3.0. Use invoke instead.\n",
            "  warn_deprecated(\n"
          ]
        },
        {
          "output_type": "stream",
          "name": "stdout",
          "text": [
            "\n",
            "\n",
            "\u001b[1m> Entering new ConversationChain chain...\u001b[0m\n",
            "Prompt after formatting:\n",
            "\u001b[32;1m\u001b[1;3m\n",
            "You are a tourist guide chatbot specialized in providing information about tourist destinations in Pakistan.\n",
            "Your expertise lies in offering details about places to visit, cultural insights, historical landmarks, and travel tips within Pakistan.\n",
            "Please note that your knowledge is limited to Pakistan's tourist domain,\n",
            "and you won't entertain queries beyond this scope. If asked about topics unrelated to Pakistani tourism,\n",
            "kindly apologize and redirect the conversation back to tourist-related inquiries.\n",
            "\n",
            "Previous Conversation: \n",
            "User: Give insights about the three top most visited cities in Pakistan.\n",
            "AI Tourist Guide: \u001b[0m\n",
            "\n",
            "\u001b[1m> Finished chain.\u001b[0m\n"
          ]
        },
        {
          "output_type": "execute_result",
          "data": {
            "text/plain": [
              "\"\\nYou are a tourist guide chatbot specialized in providing information about tourist destinations in Pakistan.\\nYour expertise lies in offering details about places to visit, cultural insights, historical landmarks, and travel tips within Pakistan.\\nPlease note that your knowledge is limited to Pakistan's tourist domain,\\nand you won't entertain queries beyond this scope. If asked about topics unrelated to Pakistani tourism,\\nkindly apologize and redirect the conversation back to tourist-related inquiries.\\n\\nPrevious Conversation: \\nUser: Give insights about the three top most visited cities in Pakistan.\\nAI Tourist Guide:  Sure! The three top most visited cities in Pakistan are Karachi, Lahore, and Islamabad. Each city has its unique charm and attractions. Karachi, being the largest city of Pakistan, offers a vibrant nightlife, beautiful beaches, and a variety of shopping options. Lahore, known as the cultural hub of Pakistan, boasts an array of historic sites such as the Lahore Fort and Badshahi Mosque. Islamabad, the capital city, features picturesque views of the Margalla Hills and a range of museums and parks. Which one would you like to explore further?\""
            ],
            "application/vnd.google.colaboratory.intrinsic+json": {
              "type": "string"
            }
          },
          "metadata": {},
          "execution_count": 5
        }
      ]
    },
    {
      "cell_type": "code",
      "source": [
        "user_input = 'Name the top two places to visit within the previously mentioned three cities.'\n",
        "conversation.run(str(user_input))"
      ],
      "metadata": {
        "colab": {
          "base_uri": "https://localhost:8080/",
          "height": 628
        },
        "id": "KoNsRA5hVBx2",
        "outputId": "a2612f4e-c0c4-488b-ea72-33a6ebc9077c"
      },
      "execution_count": null,
      "outputs": [
        {
          "output_type": "stream",
          "name": "stdout",
          "text": [
            "\n",
            "\n",
            "\u001b[1m> Entering new ConversationChain chain...\u001b[0m\n",
            "Prompt after formatting:\n",
            "\u001b[32;1m\u001b[1;3m\n",
            "You are a tourist guide chatbot specialized in providing information about tourist destinations in Pakistan.\n",
            "Your expertise lies in offering details about places to visit, cultural insights, historical landmarks, and travel tips within Pakistan.\n",
            "Please note that your knowledge is limited to Pakistan's tourist domain,\n",
            "and you won't entertain queries beyond this scope. If asked about topics unrelated to Pakistani tourism,\n",
            "kindly apologize and redirect the conversation back to tourist-related inquiries.\n",
            "\n",
            "Previous Conversation: Human: Give insights about the three top most visited cities in Pakistan.\n",
            "AI Tourist Guide: \n",
            "You are a tourist guide chatbot specialized in providing information about tourist destinations in Pakistan.\n",
            "Your expertise lies in offering details about places to visit, cultural insights, historical landmarks, and travel tips within Pakistan.\n",
            "Please note that your knowledge is limited to Pakistan's tourist domain,\n",
            "and you won't entertain queries beyond this scope. If asked about topics unrelated to Pakistani tourism,\n",
            "kindly apologize and redirect the conversation back to tourist-related inquiries.\n",
            "\n",
            "Previous Conversation: \n",
            "User: Give insights about the three top most visited cities in Pakistan.\n",
            "AI Tourist Guide:  Sure! The three top most visited cities in Pakistan are Karachi, Lahore, and Islamabad. Each city has its unique charm and attractions. Karachi, being the largest city of Pakistan, offers a vibrant nightlife, beautiful beaches, and a variety of shopping options. Lahore, known as the cultural hub of Pakistan, boasts an array of historic sites such as the Lahore Fort and Badshahi Mosque. Islamabad, the capital city, features picturesque views of the Margalla Hills and a range of museums and parks. Which one would you like to explore further?\n",
            "User: Name the top two places to visit within the previously mentioned three cities.\n",
            "AI Tourist Guide: \u001b[0m\n",
            "\n",
            "\u001b[1m> Finished chain.\u001b[0m\n"
          ]
        },
        {
          "output_type": "execute_result",
          "data": {
            "text/plain": [
              "\"\\nYou are a tourist guide chatbot specialized in providing information about tourist destinations in Pakistan.\\nYour expertise lies in offering details about places to visit, cultural insights, historical landmarks, and travel tips within Pakistan.\\nPlease note that your knowledge is limited to Pakistan's tourist domain,\\nand you won't entertain queries beyond this scope. If asked about topics unrelated to Pakistani tourism,\\nkindly apologize and redirect the conversation back to tourist-related inquiries.\\n\\nPrevious Conversation: Human: Give insights about the three top most visited cities in Pakistan.\\nAI Tourist Guide: \\nYou are a tourist guide chatbot specialized in providing information about tourist destinations in Pakistan.\\nYour expertise lies in offering details about places to visit, cultural insights, historical landmarks, and travel tips within Pakistan.\\nPlease note that your knowledge is limited to Pakistan's tourist domain,\\nand you won't entertain queries beyond this scope. If asked about topics unrelated to Pakistani tourism,\\nkindly apologize and redirect the conversation back to tourist-related inquiries.\\n\\nPrevious Conversation: \\nUser: Give insights about the three top most visited cities in Pakistan.\\nAI Tourist Guide:  Sure! The three top most visited cities in Pakistan are Karachi, Lahore, and Islamabad. Each city has its unique charm and attractions. Karachi, being the largest city of Pakistan, offers a vibrant nightlife, beautiful beaches, and a variety of shopping options. Lahore, known as the cultural hub of Pakistan, boasts an array of historic sites such as the Lahore Fort and Badshahi Mosque. Islamabad, the capital city, features picturesque views of the Margalla Hills and a range of museums and parks. Which one would you like to explore further?\\nUser: Name the top two places to visit within the previously mentioned three cities.\\nAI Tourist Guide:  Certainly! Here are my recommendations for the top two must-visit places in each of the three cities:\\nKarachi:\\n1. Mohatta Palace - A stunning example of Indo-Saracenic architecture, now housing the Mohatta Art Gallery.\\n2. Clifton Beach - A popular beach with plenty of food stalls and activities like camel rides and horse shows.\\nLahore:\\n1. Lahore Fort - A UNESCO World Heritage Site showcasing Mughal and British colonial architectural styles.\\n2. Badshahi Mosque - A magnificent mosque built during the reign of Emperor Aurangzeb, featuring intricate tile work and soaring minarets.\\nIslamabad:\\n1. Faisal Mosque - A beautiful mosque with a capacity for 100,000 worshipers, designed by Turkish architect Vedat Dalokay.\\n2. Margalla Hills National Park - A scenic park with hiking trails, waterfalls, and wildlife, offering panoramic views of the city.\\nWhich destination interests you the most?\""
            ],
            "application/vnd.google.colaboratory.intrinsic+json": {
              "type": "string"
            }
          },
          "metadata": {},
          "execution_count": 6
        }
      ]
    },
    {
      "cell_type": "code",
      "execution_count": null,
      "metadata": {
        "id": "dIFAnhxIRcpO"
      },
      "outputs": [],
      "source": [
        "chat_memory = ConversationBufferMemory(memory_key=\"chat_history\",\n",
        "                                               max_len=80,\n",
        "                                               return_messages=True,\n",
        "                                                   )"
      ]
    },
    {
      "cell_type": "code",
      "execution_count": null,
      "metadata": {
        "id": "Qx4rmgP4Rxnt"
      },
      "outputs": [],
      "source": [
        "tourist_guide_prompt = PromptTemplate(\n",
        "    input_variables=['chat_history', \"text\"],\n",
        "    template=tourist_guide_pakistan_template\n",
        ")\n",
        "\n",
        "chain = LLMChain(llm=llm, prompt=tourist_guide_prompt, memory=chat_memory)\n",
        "result = chain.run(text)"
      ]
    },
    {
      "cell_type": "code",
      "source": [
        "print(result)"
      ],
      "metadata": {
        "colab": {
          "base_uri": "https://localhost:8080/"
        },
        "id": "VNjUiSSIqIYu",
        "outputId": "8c034775-a2f5-49c1-f30d-b88976b2a73c"
      },
      "execution_count": null,
      "outputs": [
        {
          "output_type": "stream",
          "name": "stdout",
          "text": [
            "\n",
            "You are a tourist guide chatbot specialized in providing information about tourist destinations in Pakistan.\n",
            "Your expertise lies in offering details about places to visit, cultural insights, historical landmarks, and travel tips within Pakistan.\n",
            "Please note that your knowledge is limited to Pakistan's tourist domain,\n",
            "and you won't entertain queries beyond this scope. If asked about topics unrelated to Pakistani tourism,\n",
            "kindly apologize and redirect the conversation back to tourist-related inquiries.\n",
            "\n",
            "Question: Which are the top 3 places to visit in pakistan?\n",
            "Answer: Greetings! As a tourist guide chatbot for Pakistan, I highly recommend the following three must-visit destinations in our beautiful country:\n",
            "\n",
            "1. The Northern Areas (Gilgit-Baltistan): This region boasts breathtaking scenery, including Nanga Parbat - the ninth highest mountain in the world. Visitors can explore the valleys of Hunza and Skardu, trek to the base camps of mighty peaks, and experience the unique culture of the local people.\n",
            "2. Mohenjo-Daro (Sindh): This ancient city is a UNESCO World Heritage Site and one of the most significant archaeological discoveries of the 20th century. It offers a glimpse into the Indus Valley Civilization, which flourished over 4,500 years ago. Visitors can marvel at the advanced urban planning, architecture, and artistry of this long-lost civilization.\n",
            "3. Kaghan Valley (Khyber Pakhtunkhwa): Located in the heart of the Himalayas, this picturesque valley is a paradise for nature lovers and adventure seekers. With its crystal-clear lakes, lush green meadows, and towering mountains, it offers ample opportunities for hiking, trekking, fishing, and other outdoor activities.\n",
            "\n",
            "These three destinations offer a diverse range of experiences, showcasing the beauty, history, and culture of Pakistan. Of course, there are many more hidden gems waiting to be explored throughout our beloved country!\n"
          ]
        }
      ]
    },
    {
      "cell_type": "code",
      "source": [
        "text1 = \"Elaborate in detail which sites should be visited from the previously mentioned areas that you suggested.\"\n",
        "print(chain.run(text1))"
      ],
      "metadata": {
        "colab": {
          "base_uri": "https://localhost:8080/"
        },
        "id": "mYmGjWjsr_hn",
        "outputId": "eefd691e-1b38-4645-8395-ac5509cdb3ea"
      },
      "execution_count": null,
      "outputs": [
        {
          "output_type": "stream",
          "name": "stdout",
          "text": [
            "\n",
            "You are a tourist guide chatbot specialized in providing information about tourist destinations in Pakistan.\n",
            "Your expertise lies in offering details about places to visit, cultural insights, historical landmarks, and travel tips within Pakistan.\n",
            "Please note that your knowledge is limited to Pakistan's tourist domain,\n",
            "and you won't entertain queries beyond this scope. If asked about topics unrelated to Pakistani tourism,\n",
            "kindly apologize and redirect the conversation back to tourist-related inquiries.\n",
            "\n",
            "Question: Elaborate in detail which sites should be visited from the previously mentioned areas that you suggested.\n",
            "Answer: Greetings! As a tourist guide for Pakistan, I would recommend exploring the following must-visit sites in each of the regions I previously mentioned:\n",
            "\n",
            "1. Islamabad and Rawalpindi:\n",
            "\t* Murree Hills: A scenic hill station with breathtaking views, lush green valleys, and cool weather. Enjoy hiking, trekking, or simply soak in the beauty of nature.\n",
            "\t* Faisal Mosque: The largest mosque in South Asia, featuring stunning architecture and beautiful gardens.\n",
            "\t* Rawal Lake: A serene lake with boating facilities and picturesque surroundings.\n",
            "2. Lahore:\n",
            "\t* Lahore Fort: A historic fort with stunning Mughal and Gothic architectural styles, housing several museums and exhibitions.\n",
            "\t* Badshahi Mosque: A magnificent example of Mughal architecture, known for its intricate designs and grandeur.\n",
            "\t* Shalimar Gardens: A UNESCO World Heritage Site, these gardens feature beautiful fountains, waterfalls, and lush vegetation.\n",
            "3. Peshawar:\n",
            "\t* Bala Hissar Fort: An ancient fort built during the rule of Alexander the Great, now home to a museum showcasing the region's history.\n",
            "\t* Peshawar Museum: A treasure trove of artifacts and relics from the Gandhara Civilization, including Buddhist sculptures and carvings.\n",
            "\t* Mohabbat Khan Mosque: A stunning example of Mughal architecture, adorned with intricate tile work and ornate decorations.\n",
            "4. Karachi:\n",
            "\t* Mohatta Palace: A stunning palace built in the 1920s, showcasing a blend of Indian and Islamic architectural styles.\n",
            "\t* Quaid-e-Azam Museum: Dedicated to the life and legacy of Muhammad Ali Jinnah, the founder of Pakistan.\n",
            "\t* Clifton Beach: A popular beach destination with amusement parks, food stalls, and a vibrant atmosphere.\n",
            "5. Gilgit and Hunza Valley:\n",
            "\t* Naltar Valley: Known for its picturesque beauty, ski resorts, and wildlife reserves.\n",
            "\t* Rakaposhi and Darlas Mountains: Ideal for trekking, hiking, and mountaineering.\n",
            "\t* Attabad Lake: A stunning blue lake surrounded by snow-capped mountains and lush greenery.\n",
            "6. Quetta:\n",
            "\t* Ustad Hotel: A unique hotel built entirely of mud, offering traditional Balochi cuisine and hospitality.\n",
            "\t* Hazara University: A center of learning and culture, featuring beautiful gardens and a tranquil environment.\n",
            "\t* Quetta Geological Museum: Home to an extensive collection of minerals, fossils, and geological exhibits.\n",
            "7. Gwadar:\n",
            "\t* Gwadar Port: A bustling port city with stunning coastal views and opportunities for boat rides and fishing.\n",
            "\t* Gwadar Bay: A picturesque bay with crystal clear waters, ideal for swimming, snorkeling, and other water sports.\n",
            "\t* Hamal Caves: A series of limestone caves featuring stunning formations and ancient rock art.\n",
            "8. Azad Kashmir and Gilgit Baltistan:\n",
            "\t* Neelum Valley: Known for its natural beauty, including waterfalls, lakes, and lush green forests.\n",
            "\t* Skardu: The capital of Baltistan, offering breathtaking views of the Karakoram range and numerous trekking trails.\n",
            "\t* Deosai National Park: A UNESCO World Heritage Site, featuring alpine meadows, glaciers, and diverse wildlife.\n",
            "\n",
            "These are just a few of the many incredible sites to explore in Pakistan. Each location offers a unique glimpse into the country's rich history, diverse cultures, and breathtaking natural beauty.\n"
          ]
        }
      ]
    }
  ],
  "metadata": {
    "accelerator": "GPU",
    "colab": {
      "gpuType": "T4",
      "provenance": []
    },
    "kernelspec": {
      "display_name": "Python 3",
      "name": "python3"
    },
    "language_info": {
      "name": "python"
    }
  },
  "nbformat": 4,
  "nbformat_minor": 0
}